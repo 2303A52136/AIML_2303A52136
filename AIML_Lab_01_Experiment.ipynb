{
  "nbformat": 4,
  "nbformat_minor": 0,
  "metadata": {
    "colab": {
      "provenance": [],
      "authorship_tag": "ABX9TyNp6Ad6KFNa1MPZIR2lAqPN",
      "include_colab_link": true
    },
    "kernelspec": {
      "name": "python3",
      "display_name": "Python 3"
    },
    "language_info": {
      "name": "python"
    }
  },
  "cells": [
    {
      "cell_type": "markdown",
      "metadata": {
        "id": "view-in-github",
        "colab_type": "text"
      },
      "source": [
        "<a href=\"https://colab.research.google.com/github/2303A52136/AIML_2303A52136/blob/main/AIML_Lab_01_Experiment.ipynb\" target=\"_parent\"><img src=\"https://colab.research.google.com/assets/colab-badge.svg\" alt=\"Open In Colab\"/></a>"
      ]
    },
    {
      "cell_type": "code",
      "execution_count": null,
      "metadata": {
        "id": "kte_ZB-eb3nT"
      },
      "outputs": [],
      "source": []
    },
    {
      "cell_type": "markdown",
      "source": [
        "CREATING LIST"
      ],
      "metadata": {
        "id": "TgqBMJMTcHCM"
      }
    },
    {
      "cell_type": "code",
      "source": [
        "import numpy as np\n",
        "list_1 = [1,2,3,4]\n",
        "Array_1 = np.array(list_1)\n",
        "Array_1"
      ],
      "metadata": {
        "colab": {
          "base_uri": "https://localhost:8080/"
        },
        "id": "5jaHl51KcSj2",
        "outputId": "2a739ad4-75a9-4e58-8098-5cff506323a1"
      },
      "execution_count": 1,
      "outputs": [
        {
          "output_type": "execute_result",
          "data": {
            "text/plain": [
              "array([1, 2, 3, 4])"
            ]
          },
          "metadata": {},
          "execution_count": 1
        }
      ]
    },
    {
      "cell_type": "markdown",
      "source": [
        "CREATING LIST-2"
      ],
      "metadata": {
        "id": "-ajgVurzc1Ml"
      }
    },
    {
      "cell_type": "code",
      "source": [
        "List_2=[5,6,7,8]\n",
        "Array_2 = np.array(List_2)\n",
        "Array_2"
      ],
      "metadata": {
        "colab": {
          "base_uri": "https://localhost:8080/"
        },
        "id": "A-LieRYcc9F7",
        "outputId": "0a81ac5a-2743-4dd0-f100-e7e2e66c0829"
      },
      "execution_count": 2,
      "outputs": [
        {
          "output_type": "execute_result",
          "data": {
            "text/plain": [
              "array([5, 6, 7, 8])"
            ]
          },
          "metadata": {},
          "execution_count": 2
        }
      ]
    },
    {
      "cell_type": "markdown",
      "source": [
        "Identifiying the type()"
      ],
      "metadata": {
        "id": "JmxN2_57dSQ8"
      }
    },
    {
      "cell_type": "code",
      "source": [
        "type(list_1)"
      ],
      "metadata": {
        "colab": {
          "base_uri": "https://localhost:8080/"
        },
        "id": "ZjCfZolXdWz7",
        "outputId": "047e83de-341c-49d5-ccb9-dbc665a5814a"
      },
      "execution_count": 5,
      "outputs": [
        {
          "output_type": "execute_result",
          "data": {
            "text/plain": [
              "list"
            ]
          },
          "metadata": {},
          "execution_count": 5
        }
      ]
    },
    {
      "cell_type": "code",
      "source": [
        "type(Array_1)"
      ],
      "metadata": {
        "colab": {
          "base_uri": "https://localhost:8080/"
        },
        "id": "O5b8SYHCdsGX",
        "outputId": "8cec4d04-1930-4161-8976-617642291b66"
      },
      "execution_count": 6,
      "outputs": [
        {
          "output_type": "execute_result",
          "data": {
            "text/plain": [
              "numpy.ndarray"
            ]
          },
          "metadata": {},
          "execution_count": 6
        }
      ]
    },
    {
      "cell_type": "markdown",
      "source": [
        "performing Addition,subtraction,multiplication,division"
      ],
      "metadata": {
        "id": "J1HDQ8eFd4PS"
      }
    },
    {
      "cell_type": "code",
      "source": [
        "print(\"The addition of\", Array_1,\"and\",Array_2 ,Array_1+Array_2)\n",
        "print(\"The subtraction of\",Array_1, \"and\", Array_2,Array_2-Array_1)\n",
        "print(\"The multiplication of\",Array_1,\"and\",Array_2,Array_1*Array_2 )\n",
        "print(\"The division \",Array_2/Array_1)\n",
        "print(\"The exponential\",Array_1**Array_2)"
      ],
      "metadata": {
        "colab": {
          "base_uri": "https://localhost:8080/"
        },
        "id": "emANISf7eEHC",
        "outputId": "b5b75794-a9ed-4fec-bb95-06cc7d3a4a99"
      },
      "execution_count": 20,
      "outputs": [
        {
          "output_type": "stream",
          "name": "stdout",
          "text": [
            "The addition of [1 2 3 4] and [5 6 7 8] [ 6  8 10 12]\n",
            "The subtraction of [1 2 3 4] and [5 6 7 8] [4 4 4 4]\n",
            "The multiplication of [1 2 3 4] and [5 6 7 8] [ 5 12 21 32]\n",
            "The division  [5.         3.         2.33333333 2.        ]\n",
            "The exponential [    1    64  2187 65536]\n"
          ]
        }
      ]
    },
    {
      "cell_type": "markdown",
      "source": [
        "Implementing Exponential Functions"
      ],
      "metadata": {
        "id": "PmM_8nF66izk"
      }
    },
    {
      "cell_type": "code",
      "source": [
        "import numpy as np\n",
        "np.sin(4)"
      ],
      "metadata": {
        "colab": {
          "base_uri": "https://localhost:8080/"
        },
        "id": "xPGquTDW6rYi",
        "outputId": "453adcc0-1615-4004-88b2-a47b061e0c90"
      },
      "execution_count": 17,
      "outputs": [
        {
          "output_type": "execute_result",
          "data": {
            "text/plain": [
              "-0.7568024953079282"
            ]
          },
          "metadata": {},
          "execution_count": 17
        }
      ]
    },
    {
      "cell_type": "code",
      "source": [
        "np.log2(1)"
      ],
      "metadata": {
        "colab": {
          "base_uri": "https://localhost:8080/"
        },
        "id": "Su8gvZIx7qli",
        "outputId": "f1478b5a-d98a-4285-9d19-f210998319a3"
      },
      "execution_count": 19,
      "outputs": [
        {
          "output_type": "execute_result",
          "data": {
            "text/plain": [
              "0.0"
            ]
          },
          "metadata": {},
          "execution_count": 19
        }
      ]
    },
    {
      "cell_type": "code",
      "source": [
        "np.log(3)"
      ],
      "metadata": {
        "colab": {
          "base_uri": "https://localhost:8080/"
        },
        "id": "peG3bxtV8NtQ",
        "outputId": "6732cc01-f73e-4d5c-dde1-eb18790355f9"
      },
      "execution_count": 16,
      "outputs": [
        {
          "output_type": "execute_result",
          "data": {
            "text/plain": [
              "1.0986122886681098"
            ]
          },
          "metadata": {},
          "execution_count": 16
        }
      ]
    },
    {
      "cell_type": "code",
      "source": [
        "np.exp(6)"
      ],
      "metadata": {
        "colab": {
          "base_uri": "https://localhost:8080/"
        },
        "id": "4Z1B7oyV8c59",
        "outputId": "d46ea7e5-b413-4672-b4e2-a5976c001d9c"
      },
      "execution_count": 15,
      "outputs": [
        {
          "output_type": "execute_result",
          "data": {
            "text/plain": [
              "403.4287934927351"
            ]
          },
          "metadata": {},
          "execution_count": 15
        }
      ]
    }
  ]
}